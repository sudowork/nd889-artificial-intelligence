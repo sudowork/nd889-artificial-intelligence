{
 "cells": [
  {
   "cell_type": "markdown",
   "metadata": {},
   "source": [
    "# Solving a Sudoku with AI"
   ]
  },
  {
   "cell_type": "markdown",
   "metadata": {},
   "source": [
    "## Goals of this project\n",
    "\n",
    "AI is composed of simple ideas put together to solve complex problems. Two of these ideas are **constraint propagation** and **search**."
   ]
  },
  {
   "cell_type": "markdown",
   "metadata": {},
   "source": [
    "### Contraint Propagation\n",
    "\n",
    "* Each square in sudoku has **local constraints**\n",
    "* Maximum information is extracted from each constraint\n",
    "* Simple constraints applied iteratively to narrow search space of solutions\n",
    "* Constraint propagation can be used to solve problems like calendar scheduling and cryptographic puzzles\n",
    "* Note: Logic programming languages like [Prolog][] are pretty much made for **constraint satisfaction problems**\n",
    "\n",
    "[Prolog]: http://www.swi-prolog.org/"
   ]
  },
  {
   "cell_type": "markdown",
   "metadata": {},
   "source": [
    "### Search\n",
    "\n",
    "- While solving a problem, there may be a point where more than one possible solutions exist\n",
    "- These branching points culminate in a tree of solutions\n",
    "- The tree can be traversed to find a solution"
   ]
  },
  {
   "cell_type": "markdown",
   "metadata": {},
   "source": [
    "## Setting up the Board\n",
    "\n",
    "- **boxes**: Individual squares (e.g. 'A1', 'A2', ..., 'I9')\n",
    "- **units**: Row, column, or 3x3 square\n",
    "- **peers**: All other boxes that belong to the same unit as a box (the boxes in the row, column, and 3x3 square)\n",
    "\n",
    "Any given box will have 20 peers: 8 in the 3x3 square, 6 _additional_ boxes per row, and 6 _additional_ boxes per column."
   ]
  },
  {
   "cell_type": "markdown",
   "metadata": {},
   "source": [
    "## Coding the Board"
   ]
  },
  {
   "cell_type": "code",
   "execution_count": 4,
   "metadata": {
    "collapsed": true
   },
   "outputs": [],
   "source": [
    "rows = 'ABCDEFGHI'\n",
    "cols = '123456789'"
   ]
  },
  {
   "cell_type": "code",
   "execution_count": 5,
   "metadata": {
    "collapsed": true
   },
   "outputs": [],
   "source": [
    "def cross(a, b):\n",
    "    return [\n",
    "        s + t\n",
    "        for s in a\n",
    "        for t in b\n",
    "    ]\n",
    "\n",
    "def display(values):\n",
    "    \"\"\"\n",
    "    Display the values as a 2-D grid.\n",
    "    Input: The sudoku in dictionary form\n",
    "    Output: None\n",
    "    \"\"\"\n",
    "    width = 1+max(len(values[s]) for s in boxes)\n",
    "    line = '+'.join(['-'*(width*3)]*3)\n",
    "    for r in rows:\n",
    "        print(''.join(values[r+c].center(width)+('|' if c in '36' else '')\n",
    "                      for c in cols))\n",
    "        if r in 'CF': print(line)\n",
    "    return"
   ]
  },
  {
   "cell_type": "code",
   "execution_count": 6,
   "metadata": {
    "collapsed": false
   },
   "outputs": [],
   "source": [
    "boxes = cross(rows, cols)"
   ]
  },
  {
   "cell_type": "code",
   "execution_count": 31,
   "metadata": {
    "collapsed": false
   },
   "outputs": [
    {
     "name": "stdout",
     "output_type": "stream",
     "text": [
      "('row example', ['A1', 'A2', 'A3', 'A4', 'A5', 'A6', 'A7', 'A8', 'A9'])\n",
      "('column example', ['A1', 'B1', 'C1', 'D1', 'E1', 'F1', 'G1', 'H1', 'I1'])\n",
      "('square example', ['A1', 'A2', 'A3', 'B1', 'B2', 'B3', 'C1', 'C2', 'C3'])\n",
      "('unit example', ('I6', [['I1', 'I2', 'I3', 'I4', 'I5', 'I6', 'I7', 'I8', 'I9'], ['A6', 'B6', 'C6', 'D6', 'E6', 'F6', 'G6', 'H6', 'I6'], ['G4', 'G5', 'G6', 'H4', 'H5', 'H6', 'I4', 'I5', 'I6']]))\n",
      "('peer example', ('I6', set(['I9', 'I8', 'G5', 'G4', 'F6', 'G6', 'I1', 'I5', 'I3', 'I2', 'H6', 'I4', 'I7', 'H5', 'B6', 'H4', 'A6', 'D6', 'E6', 'C6'])))\n"
     ]
    }
   ],
   "source": [
    "row_units = [\n",
    "    cross(r, cols)\n",
    "    for r in rows\n",
    "]\n",
    "column_units = [\n",
    "    cross(rows, c)\n",
    "    for c in cols\n",
    "]\n",
    "square_units = [\n",
    "    cross(rs, cs)\n",
    "    for rs in ('ABC', 'DEF', 'GHI')\n",
    "    for cs in ('123', '456', '789')\n",
    "]\n",
    "unitlist = row_units + column_units + square_units\n",
    "units = dict((s, [u for u in unitlist if s in u]) for s in boxes)\n",
    "peers = dict((s, set(sum(units[s],[]))-set([s])) for s in boxes)\n",
    "print('row example', row_units[0])\n",
    "print('column example', column_units[0])\n",
    "print('square example', square_units[0])\n",
    "print('unit example', units.items()[0])\n",
    "print('peer example', peers.items()[0])"
   ]
  },
  {
   "cell_type": "code",
   "execution_count": 39,
   "metadata": {
    "collapsed": true
   },
   "outputs": [],
   "source": [
    "EXAMPLE_BOARD = '..3.2.6..9..3.5..1..18.64....81.29..7.......8..67.82....26.95..8..2.3..9..5.1.3..'"
   ]
  },
  {
   "cell_type": "code",
   "execution_count": 40,
   "metadata": {
    "collapsed": false
   },
   "outputs": [
    {
     "name": "stdout",
     "output_type": "stream",
     "text": [
      ". . 3 |. 2 . |6 . . \n",
      "9 . . |3 . 5 |. . 1 \n",
      ". . 1 |8 . 6 |4 . . \n",
      "------+------+------\n",
      ". . 8 |1 . 2 |9 . . \n",
      "7 . . |. . . |. . 8 \n",
      ". . 6 |7 . 8 |2 . . \n",
      "------+------+------\n",
      ". . 2 |6 . 9 |5 . . \n",
      "8 . . |2 . 3 |. . 9 \n",
      ". . 5 |. 1 . |3 . . \n"
     ]
    }
   ],
   "source": [
    "import re\n",
    "\n",
    "def grid_values(grid):\n",
    "    # In this function, you will take a sudoku as a string\n",
    "    # and return a dictionary where the keys are the boxes,\n",
    "    # for example 'A1', and the values are the digit at each\n",
    "    # box (as a string) or '.' if the box has no value\n",
    "    # assigned yet.\n",
    "    assert re.compile(r'^[1-9.]{81}$').match(grid)\n",
    "    return dict(zip(boxes, grid))\n",
    "\n",
    "display(grid_values(EXAMPLE_BOARD))"
   ]
  },
  {
   "cell_type": "markdown",
   "metadata": {},
   "source": [
    "## Strategy 1: Elimination\n",
    "\n",
    "If a box has a value assigned, then none of the peers of this box can have this value."
   ]
  },
  {
   "cell_type": "code",
   "execution_count": 41,
   "metadata": {
    "collapsed": false
   },
   "outputs": [
    {
     "name": "stdout",
     "output_type": "stream",
     "text": [
      "123456789 123456789     3     |123456789     2     123456789 |    6     123456789 123456789 \n",
      "    9     123456789 123456789 |    3     123456789     5     |123456789 123456789     1     \n",
      "123456789 123456789     1     |    8     123456789     6     |    4     123456789 123456789 \n",
      "------------------------------+------------------------------+------------------------------\n",
      "123456789 123456789     8     |    1     123456789     2     |    9     123456789 123456789 \n",
      "    7     123456789 123456789 |123456789 123456789 123456789 |123456789 123456789     8     \n",
      "123456789 123456789     6     |    7     123456789     8     |    2     123456789 123456789 \n",
      "------------------------------+------------------------------+------------------------------\n",
      "123456789 123456789     2     |    6     123456789     9     |    5     123456789 123456789 \n",
      "    8     123456789 123456789 |    2     123456789     3     |123456789 123456789     9     \n",
      "123456789 123456789     5     |123456789     1     123456789 |    3     123456789 123456789 \n"
     ]
    }
   ],
   "source": [
    "import re\n",
    "\n",
    "def grid_values(grid):\n",
    "    \"\"\"Convert grid string into {<box>: <value>} dict with '123456789' value for empties.\n",
    "\n",
    "    Args:\n",
    "        grid: Sudoku grid in string form, 81 characters long\n",
    "    Returns:\n",
    "        Sudoku grid in dictionary form:\n",
    "        - keys: Box labels, e.g. 'A1'\n",
    "        - values: Value in corresponding box, e.g. '8', or '123456789' if it is empty.\n",
    "    \"\"\"\n",
    "    assert re.compile(r'^[1-9.]{81}$').match(grid)\n",
    "    all_nums = '123456789'\n",
    "    boxes_and_values = zip(boxes, grid)\n",
    "    return {\n",
    "        box: all_nums if value == '.' else value\n",
    "        for box, value in boxes_and_values\n",
    "    }\n",
    "\n",
    "display(grid_values(EXAMPLE_BOARD))"
   ]
  },
  {
   "cell_type": "code",
   "execution_count": 42,
   "metadata": {
    "collapsed": false
   },
   "outputs": [
    {
     "name": "stdout",
     "output_type": "stream",
     "text": [
      "   45    4578    3   |   49     2     147  |   6     5789    57  \n",
      "   9    24678    47  |   3      47     5   |   78    278     1   \n",
      "   25    257     1   |   8      79     6   |   4    23579   2357 \n",
      "---------------------+---------------------+---------------------\n",
      "  345    345     8   |   1     3456    2   |   9    34567  34567 \n",
      "   7    123459   49  |  459   34569    4   |   1    13456    8   \n",
      "  1345  13459    6   |   7     3459    8   |   2     1345   345  \n",
      "---------------------+---------------------+---------------------\n",
      "  134    1347    2   |   6     478     9   |   5     1478    47  \n",
      "   8     1467    47  |   2     457     3   |   17    1467    9   \n",
      "   46    4679    5   |   4      1      47  |   3    24678   2467 \n"
     ]
    }
   ],
   "source": [
    "def eliminate(values):\n",
    "    \"\"\"Eliminate values from peers of each box with a single value.\n",
    "\n",
    "    Go through all the boxes, and whenever there is a box with a single value,\n",
    "    eliminate this value from the set of values of all its peers.\n",
    "\n",
    "    Args:\n",
    "        values: Sudoku in dictionary form.\n",
    "    Returns:\n",
    "        Resulting Sudoku in dictionary form after eliminating values.\n",
    "    \"\"\"\n",
    "    result = values.copy() # don't mutate the original values dict\n",
    "    final_values = get_final_values(result)\n",
    "    for box, value in final_values:\n",
    "        peers_for_box = peers[box]\n",
    "        eliminate_from_peers(result, peers_for_box, value)\n",
    "    return result\n",
    "\n",
    "def get_final_values(values):\n",
    "    return [\n",
    "        (box, value)\n",
    "        for box, value in values.items()\n",
    "        if is_final(value)\n",
    "    ]\n",
    "\n",
    "def is_final(value):\n",
    "    return len(value) == 1\n",
    "    \n",
    "def eliminate_from_peers(values, peers, num_to_eliminate):\n",
    "    for peer in peers:\n",
    "        old_value = values[peer]\n",
    "        if not is_final(old_value):\n",
    "            new_value = old_value.replace(num_to_eliminate, '')\n",
    "            values[peer] = new_value\n",
    "\n",
    "display(eliminate(grid_values(EXAMPLE_BOARD)))"
   ]
  },
  {
   "cell_type": "markdown",
   "metadata": {},
   "source": [
    "## Strategy 2: Only Choice\n",
    "\n",
    "If there is only one box in a unit which would allow a cetrain digit, then that box must be assigned that digit."
   ]
  },
  {
   "cell_type": "code",
   "execution_count": 45,
   "metadata": {
    "collapsed": false
   },
   "outputs": [
    {
     "name": "stdout",
     "output_type": "stream",
     "text": [
      "  45   4578   3   |  49    2     1   |  6    5789   57  \n",
      "  9     6     47  |  3     47    5   |  8    278    1   \n",
      "  2    257    1   |  8     79    6   |  4   23579  2357 \n",
      "------------------+------------------+------------------\n",
      " 345   345    8   |  1    3456   2   |  9   34567 34567 \n",
      "  7     2     9   |  5   34569   4   |  1   13456   8   \n",
      " 1345 13459   6   |  7    3459   8   |  2    1345  345  \n",
      "------------------+------------------+------------------\n",
      " 134   1347   2   |  6     8     9   |  5    1478   47  \n",
      "  8    1467   47  |  2     5     3   |  17   1467   9   \n",
      "  6     9     5   |  4     1     47  |  3     8    2467 \n"
     ]
    }
   ],
   "source": [
    "from collections import Counter\n",
    "\n",
    "def only_choice(values):\n",
    "    \"\"\"Finalize all values that are the only choice for a unit.\n",
    "\n",
    "    Go through all the units, and whenever there is a unit with a value\n",
    "    that only fits in one box, assign the value to this box.\n",
    "\n",
    "    Input: Sudoku in dictionary form.\n",
    "    Output: Resulting Sudoku in dictionary form after filling in only choices.\n",
    "    \"\"\"\n",
    "    new_values = values.copy()  # note: do not modify original values\n",
    "    for unit in unitlist:\n",
    "        # Only relying on initial state to satisfy grader; however,\n",
    "        # it would be more efficient to iterate using the new state.\n",
    "        only_choices = get_only_choices_for_unit(values, unit)\n",
    "        assign_values(new_values, only_choices)\n",
    "    return new_values\n",
    "\n",
    "def get_only_choices_for_unit(values, unit):\n",
    "    possibility_counts = Counter()\n",
    "    # Maintain an index of value -> box\n",
    "    # Since we only care about only choices, allow the box to be overwritten\n",
    "    # Only choices will inherently not be overwritten.\n",
    "    value_to_box = dict()\n",
    "    # Count appearances of values and create index of value -> last box\n",
    "    for box in unit:\n",
    "        box_values = list(values[box])\n",
    "        possibility_counts.update(box_values)\n",
    "        for value in box_values:\n",
    "            existing_values = value_to_box[value] = box\n",
    "    return [\n",
    "        (value_to_box[value], value)\n",
    "        for value, count in possibility_counts.items()\n",
    "        if count == 1\n",
    "    ]\n",
    "\n",
    "def assign_values(values, boxes_and_values):\n",
    "    for box, value in boxes_and_values:\n",
    "        values[box] = value\n",
    "        \n",
    "display(only_choice(eliminate(grid_values(EXAMPLE_BOARD))))"
   ]
  },
  {
   "cell_type": "markdown",
   "metadata": {},
   "source": [
    "## Constraint Propagation\n",
    "\n",
    "Constraint propagation is the iterative application of local constraints to reduce the overall search space."
   ]
  },
  {
   "cell_type": "markdown",
   "metadata": {},
   "source": [
    "### Constraint Propagation in Sudoku\n",
    "\n",
    "In Sudoku, this means starting with the initial grid state, and the applying the `eliminate` and `only_choice` constraints repeatedly until arriving at a solution or stalling (no progress being made).\n",
    "\n",
    "The algorithm can roughly be described by the following (this is generally applicable):\n",
    "1. Store the in-progress solution before applying constraints.\n",
    "1. Apply all constraints.\n",
    "1. Compare the new in-progress solution with the solution before applying constraints. If there is no change, set state to stalled.\n",
    "1. Repeat while state is not stalled."
   ]
  },
  {
   "cell_type": "markdown",
   "metadata": {},
   "source": [
    "![Constraint Propagation in Sudoku](constraint-propagation.png)"
   ]
  },
  {
   "cell_type": "markdown",
   "metadata": {},
   "source": [
    "### Other Examples of Constraint Propagation Problems\n",
    "\n",
    "- Map coloring: Color a map where no two adjacent regions are the same color.\n",
    "- Crypto-arithmetic puzlzes: Find a mapping where each letter maps to a digit. Given a set of equations, find a mapping that satisfies them."
   ]
  },
  {
   "cell_type": "code",
   "execution_count": 47,
   "metadata": {
    "collapsed": true
   },
   "outputs": [],
   "source": [
    "def reduce_puzzle(values):\n",
    "    solved_values = [box for box in values.keys() if len(values[box]) == 1]\n",
    "    stalled = False\n",
    "    while not stalled:\n",
    "        # Check how many boxes have a determined value\n",
    "        solved_values_before = len([box for box in values.keys() if len(values[box]) == 1])\n",
    "\n",
    "        # Your code here: Use the Eliminate Strategy\n",
    "        values = eliminate(values)\n",
    "\n",
    "        # Your code here: Use the Only Choice Strategy\n",
    "        values = only_choice(values)\n",
    "\n",
    "        # Check how many boxes have a determined value, to compare\n",
    "        solved_values_after = len([box for box in values.keys() if len(values[box]) == 1])\n",
    "        # If no new values were added, stop the loop.\n",
    "        stalled = solved_values_before == solved_values_after\n",
    "        # Sanity check, return False if there is a box with zero available values:\n",
    "        if len([box for box in values.keys() if len(values[box]) == 0]):\n",
    "            return False\n",
    "    return values"
   ]
  },
  {
   "cell_type": "markdown",
   "metadata": {},
   "source": [
    "### Harder Sudoku\n",
    "\n",
    "Some Sudoku problems cannot be solved in a single round of constraint propagation. Instead, the solution space needs to be searched after constraint propagation. Below is an example of a harder Sudoku puzzle after going through a round of constraint propagation."
   ]
  },
  {
   "cell_type": "code",
   "execution_count": 52,
   "metadata": {
    "collapsed": false
   },
   "outputs": [
    {
     "name": "stdout",
     "output_type": "stream",
     "text": [
      "   4      1679   12679  |  139     2369    269   |   8      1239     5    \n",
      " 26789     3    1256789 | 14589   24569   245689 | 12679    1249   124679 \n",
      "  2689   15689   125689 |   7     234569  245689 | 12369   12349   123469 \n",
      "------------------------+------------------------+------------------------\n",
      "  3789     2     15789  |  3459   34579    4579  | 13579     6     13789  \n",
      "  3679   15679   15679  |  359      8     25679  |   4     12359   12379  \n",
      " 36789     4     56789  |  359      1     25679  | 23579   23589   23789  \n",
      "------------------------+------------------------+------------------------\n",
      "  289      89     289   |   6      459      3    |  1259     7     12489  \n",
      "   5      6789     3    |   2      479      1    |   69     489     4689  \n",
      "   1      6789     4    |  589     579     5789  | 23569   23589   23689  \n"
     ]
    }
   ],
   "source": [
    "EXAMPLE_BOARD2 = '4.....8.5.3..........7......2.....6.....8.4......1.......6.3.7.5..2.....1.4......'\n",
    "display(reduce_puzzle(grid_values(EXAMPLE_BOARD2)))"
   ]
  },
  {
   "cell_type": "markdown",
   "metadata": {},
   "source": [
    "## Strategy 3: Search\n",
    "\n",
    "In cases where constraint propagation do not lead to one or no solutions, search can be used to efficiently find solutions. The algorithm can roughly be described as a [depth-first search][DFS], creating the minimum number of branches at each step.\n",
    "\n",
    "Pick a box with a minimal number of possible values. Try to solve each of the puzzles obtained by choosing each of these values, recursively.\n",
    "\n",
    "<!-- Links -->\n",
    "[DFS]: https://en.wikipedia.org/wiki/Depth-first_search"
   ]
  },
  {
   "cell_type": "code",
   "execution_count": 63,
   "metadata": {
    "collapsed": false
   },
   "outputs": [],
   "source": [
    "def search(values):\n",
    "    \"\"\"\n",
    "    Using depth-first search and propagation, create a search tree and solve the sudoku.\n",
    "    NOTE: This assumes that we only want A solution, not ALL solutions.\n",
    "    \"\"\"\n",
    "    # First, reduce the puzzle using the previous function\n",
    "    reduced_values = reduce_puzzle(values)\n",
    "    \n",
    "    # Base case when puzzle is unsolvable\n",
    "    if reduced_values is False:\n",
    "        return False\n",
    "    \n",
    "    # Choose one of the unfilled squares with the fewest possibilities\n",
    "    min_choice = get_box_with_fewest_possibilities(reduced_values)\n",
    "\n",
    "    # Base case when puzzle is already solved\n",
    "    if min_choice is None:\n",
    "        return reduced_values\n",
    "    \n",
    "    min_box, possible_values = min_choice\n",
    "    \n",
    "    # Now use recursion to solve each one of the resulting sudokus, and if one returns a value (not False), return that answer!\n",
    "    for possible_value in list(possible_values):\n",
    "        subtree_values = reduced_values.copy()\n",
    "        subtree_values[min_box] = possible_value\n",
    "        subtree_solution = search(subtree_values)\n",
    "        if subtree_solution is not False:\n",
    "            return subtree_solution\n",
    "    \n",
    "    # Unsolvable puzzle\n",
    "    return False\n",
    "\n",
    "def get_box_with_fewest_possibilities(values):\n",
    "    unsolved_values = [\n",
    "        (box, value)\n",
    "        for box, value in values.items() if len(value) > 1\n",
    "    ]\n",
    "    if len(unsolved_values) == 0:\n",
    "        return None\n",
    "    sorted_values = sorted(unsolved_values, key=lambda x: len(x[1]))\n",
    "    return sorted_values[0]"
   ]
  },
  {
   "cell_type": "code",
   "execution_count": 64,
   "metadata": {
    "collapsed": false
   },
   "outputs": [
    {
     "name": "stdout",
     "output_type": "stream",
     "text": [
      "4 1 7 |3 2 6 |8 9 5 \n",
      "6 3 8 |1 9 5 |7 4 7 \n",
      "2 5 9 |7 3 8 |2 1 6 \n",
      "------+------+------\n",
      "8 2 5 |4 9 7 |9 6 1 \n",
      "7 9 1 |5 8 6 |4 2 3 \n",
      "3 4 6 |9 1 2 |7 5 8 \n",
      "------+------+------\n",
      "9 8 2 |6 5 3 |1 7 4 \n",
      "5 7 3 |2 4 1 |6 8 9 \n",
      "1 6 4 |8 7 9 |5 3 2 \n"
     ]
    }
   ],
   "source": [
    "display(search(grid_values(EXAMPLE_BOARD2)))"
   ]
  }
 ],
 "metadata": {
  "kernelspec": {
   "display_name": "Python 2",
   "language": "python",
   "name": "python2"
  },
  "language_info": {
   "codemirror_mode": {
    "name": "ipython",
    "version": 2
   },
   "file_extension": ".py",
   "mimetype": "text/x-python",
   "name": "python",
   "nbconvert_exporter": "python",
   "pygments_lexer": "ipython2",
   "version": "2.7.13"
  }
 },
 "nbformat": 4,
 "nbformat_minor": 0
}
